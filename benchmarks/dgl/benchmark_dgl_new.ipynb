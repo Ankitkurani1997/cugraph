{
 "cells": [
  {
   "cell_type": "markdown",
   "id": "2ea1c5ec-77f2-4e8f-bac8-58d6ea26e7c9",
   "metadata": {},
   "source": [
    "# DGL UVA Sampling Benchmark "
   ]
  },
  {
   "cell_type": "code",
   "execution_count": 1,
   "id": "8194dedf-032b-46fe-b75b-f7453f4143fb",
   "metadata": {},
   "outputs": [],
   "source": [
    "import torch\n",
    "import dgl\n",
    "import pandas as pd\n",
    "import os"
   ]
  },
  {
   "cell_type": "code",
   "execution_count": 2,
   "id": "21a4c208-8472-4c02-a78d-8ec33da049e1",
   "metadata": {},
   "outputs": [],
   "source": [
    "def get_edgelist(scale, edgefactor, dataset_dir = '/datasets/vjawa/gnn_data/'):\n",
    "    fp = os.path.join(dataset_dir, f'mg_scale_{scale}_edgefactor_{edgefactor}.parquet')\n",
    "    return pd.read_parquet(fp).reset_index(drop=True)\n",
    "                      \n",
    "def create_dgl_graph_from_df(df):\n",
    "    src_tensor = torch.as_tensor(df['src'].values)\n",
    "    dst_tensor = torch.as_tensor(df['dst'].values)\n",
    "    # Reverse edges to match cuGraph behavior\n",
    "    g = dgl.graph(data = (dst_tensor, src_tensor))\n",
    "    return g\n",
    "\n",
    "\n",
    "def get_dgl_dataloader(dgl_graph, df, batch_size, fanout):\n",
    "    g,df = dgl_graph, df\n",
    "    assert g.device.type =='cpu'\n",
    "    seed_nodes = torch.as_tensor(df['dst'][:30_000_000])\n",
    "    seed_nodes = seed_nodes.to('cuda')\n",
    "    ### Reverse because dgl sampler samples from destination to source\n",
    "    fanout.reverse()\n",
    "    sampler = dgl.dataloading.MultiLayerNeighborSampler(fanout)\n",
    "    dataloader = dgl.dataloading.DataLoader(\n",
    "    g,                               \n",
    "    seed_nodes,                        # train_nid must be on GPU.\n",
    "    sampler,\n",
    "    device=torch.device('cuda:0'),    # The device argument must be GPU.\n",
    "    num_workers=0,                    # Number of workers must be 0.\n",
    "    use_uva=True,\n",
    "    batch_size=batch_size,\n",
    "    drop_last=False,\n",
    "    shuffle=False)\n",
    "    \n",
    "    return dataloader\n",
    "\n",
    "\n",
    "def uva_benchmark(dataloader_it):\n",
    "    input_nodes, output_nodes, blocks = next(dataloader_it)\n",
    "    return  input_nodes, output_nodes, blocks "
   ]
  },
  {
   "cell_type": "markdown",
   "id": "3f8fabc1-1d21-420c-931a-4d97ff34fa73",
   "metadata": {},
   "source": [
    "### Scale: 27,16 Benchmarks"
   ]
  },
  {
   "cell_type": "code",
   "execution_count": 3,
   "id": "7e273397-71c2-4c73-a402-2d9ded51da45",
   "metadata": {},
   "outputs": [
    {
     "name": "stdout",
     "output_type": "stream",
     "text": [
      "2,147,483,648\n",
      "CPU times: user 1min 22s, sys: 1min 41s, total: 3min 3s\n",
      "Wall time: 1min 2s\n"
     ]
    }
   ],
   "source": [
    "%%time\n",
    "df = get_edgelist(27,16)\n",
    "df = df.astype('int64') # Fails on int32 at  scales>=27\n",
    "print(\"{:,}\".format(len(df)))\n",
    "g = create_dgl_graph_from_df(df)"
   ]
  },
  {
   "cell_type": "code",
   "execution_count": 4,
   "id": "f89ddaeb-56d6-4fed-854a-2f66230e7e39",
   "metadata": {},
   "outputs": [
    {
     "name": "stdout",
     "output_type": "stream",
     "text": [
      "---------------------------------------------Batch_Size:100---------------------------------------------\n",
      "5.8 ms ± 67 µs per loop (mean ± std. dev. of 7 runs, 100 loops each)\n",
      "---------------------------------------------Batch_Size:500---------------------------------------------\n",
      "9.63 ms ± 130 µs per loop (mean ± std. dev. of 7 runs, 100 loops each)\n",
      "---------------------------------------------Batch_Size:1000---------------------------------------------\n",
      "14.4 ms ± 234 µs per loop (mean ± std. dev. of 7 runs, 100 loops each)\n",
      "---------------------------------------------Batch_Size:2500---------------------------------------------\n",
      "24 ms ± 1.12 ms per loop (mean ± std. dev. of 7 runs, 10 loops each)\n",
      "---------------------------------------------Batch_Size:5000---------------------------------------------\n",
      "37.7 ms ± 1.39 ms per loop (mean ± std. dev. of 7 runs, 10 loops each)\n",
      "---------------------------------------------Batch_Size:10000---------------------------------------------\n",
      "62.6 ms ± 1.3 ms per loop (mean ± std. dev. of 7 runs, 10 loops each)\n",
      "---------------------------------------------Batch_Size:20000---------------------------------------------\n",
      "109 ms ± 19.3 ms per loop (mean ± std. dev. of 7 runs, 10 loops each)\n",
      "---------------------------------------------Batch_Size:30000---------------------------------------------\n",
      "148 ms ± 1.62 ms per loop (mean ± std. dev. of 7 runs, 10 loops each)\n",
      "---------------------------------------------Batch_Size:40000---------------------------------------------\n",
      "202 ms ± 1.3 ms per loop (mean ± std. dev. of 7 runs, 10 loops each)\n",
      "---------------------------------------------Batch_Size:50000---------------------------------------------\n",
      "180 ms ± 691 µs per loop (mean ± std. dev. of 7 runs, 1 loop each)\n",
      "---------------------------------------------Batch_Size:60000---------------------------------------------\n",
      "212 ms ± 797 µs per loop (mean ± std. dev. of 7 runs, 1 loop each)\n",
      "---------------------------------------------Batch_Size:70000---------------------------------------------\n",
      "238 ms ± 1.1 ms per loop (mean ± std. dev. of 7 runs, 1 loop each)\n",
      "---------------------------------------------Batch_Size:80000---------------------------------------------\n",
      "274 ms ± 10.5 ms per loop (mean ± std. dev. of 7 runs, 1 loop each)\n",
      "---------------------------------------------Batch_Size:90000---------------------------------------------\n",
      "302 ms ± 9.61 ms per loop (mean ± std. dev. of 7 runs, 1 loop each)\n",
      "---------------------------------------------Batch_Size:100000---------------------------------------------\n",
      "283 ms ± 800 µs per loop (mean ± std. dev. of 7 runs, 1 loop each)\n"
     ]
    }
   ],
   "source": [
    "for batch_size in [100, 500, 1_000, 2_500, 5_000, 10_000, 20_000, 30_000, 40_000, 50_000, 60_000, 70_000, 80_000, 90_000, 100_000]:\n",
    "    print(f\"---\"*15+f\"Batch_Size:{batch_size}\"+\"---\"*15)\n",
    "    dataloader = get_dgl_dataloader(g, df, batch_size, [10,25])\n",
    "    dataloader_it = iter(dataloader)\n",
    "    input_nodes, output_nodes, blocks  = uva_benchmark(dataloader_it)  \n",
    "    assert len(output_nodes)==batch_size\n",
    "    %timeit input_nodes, output_nodes, blocks  = uva_benchmark(dataloader_it) "
   ]
  },
  {
   "cell_type": "markdown",
   "id": "bc70442a-4e65-4377-81fc-5425012a294a",
   "metadata": {},
   "source": [
    "### Scale: 28,16 Benchmarks"
   ]
  },
  {
   "cell_type": "code",
   "execution_count": 3,
   "id": "603c345c-9ecd-44fa-8035-1c4aff43e5f9",
   "metadata": {},
   "outputs": [
    {
     "name": "stdout",
     "output_type": "stream",
     "text": [
      "4,294,967,296\n",
      "CPU times: user 3min 6s, sys: 4min 37s, total: 7min 43s\n",
      "Wall time: 2min 41s\n"
     ]
    }
   ],
   "source": [
    "%%time\n",
    "df = get_edgelist(28,16)\n",
    "df = df.astype('int64')\n",
    "print(\"{:,}\".format(len(df)))\n",
    "g = create_dgl_graph_from_df(df)"
   ]
  },
  {
   "cell_type": "code",
   "execution_count": 4,
   "id": "afa73e76-00c5-4fd1-a871-4be7e81538a7",
   "metadata": {},
   "outputs": [
    {
     "name": "stdout",
     "output_type": "stream",
     "text": [
      "------------------------------Batch_Size:100--------------------\n",
      "6.54 ms ± 159 µs per loop (mean ± std. dev. of 7 runs, 100 loops each)\n",
      "------------------------------Batch_Size:500--------------------\n",
      "11.8 ms ± 90.2 µs per loop (mean ± std. dev. of 7 runs, 100 loops each)\n",
      "------------------------------Batch_Size:1000--------------------\n",
      "23 ms ± 1.33 ms per loop (mean ± std. dev. of 7 runs, 100 loops each)\n",
      "------------------------------Batch_Size:2500--------------------\n",
      "33.5 ms ± 11.4 ms per loop (mean ± std. dev. of 7 runs, 10 loops each)\n",
      "------------------------------Batch_Size:5000--------------------\n",
      "62.9 ms ± 11.1 ms per loop (mean ± std. dev. of 7 runs, 10 loops each)\n",
      "------------------------------Batch_Size:10000--------------------\n",
      "109 ms ± 9.02 ms per loop (mean ± std. dev. of 7 runs, 10 loops each)\n",
      "------------------------------Batch_Size:20000--------------------\n",
      "188 ms ± 390 µs per loop (mean ± std. dev. of 7 runs, 10 loops each)\n",
      "------------------------------Batch_Size:30000--------------------\n",
      "308 ms ± 113 ms per loop (mean ± std. dev. of 7 runs, 1 loop each)\n",
      "------------------------------Batch_Size:40000--------------------\n",
      "279 ms ± 108 ms per loop (mean ± std. dev. of 7 runs, 1 loop each)\n",
      "------------------------------Batch_Size:50000--------------------\n",
      "350 ms ± 94.5 ms per loop (mean ± std. dev. of 7 runs, 1 loop each)\n",
      "------------------------------Batch_Size:60000--------------------\n",
      "394 ms ± 76.5 ms per loop (mean ± std. dev. of 7 runs, 1 loop each)\n",
      "------------------------------Batch_Size:70000--------------------\n",
      "482 ms ± 79.8 ms per loop (mean ± std. dev. of 7 runs, 1 loop each)\n",
      "------------------------------Batch_Size:80000--------------------\n",
      "544 ms ± 89 ms per loop (mean ± std. dev. of 7 runs, 1 loop each)\n",
      "------------------------------Batch_Size:90000--------------------\n",
      "433 ms ± 101 ms per loop (mean ± std. dev. of 7 runs, 1 loop each)\n",
      "------------------------------Batch_Size:100000--------------------\n",
      "485 ms ± 119 ms per loop (mean ± std. dev. of 7 runs, 1 loop each)\n"
     ]
    }
   ],
   "source": [
    "for batch_size in [100, 500, 1_000, 2_500, 5_000, 10_000, 20_000, 30_000, 40_000, 50_000, 60_000, 70_000, 80_000, 90_000, 100_000]:\n",
    "    print(f\"---\"*10+f\"Batch_Size:{batch_size}\"+\"--\"*10)\n",
    "    dataloader = get_dgl_dataloader(g, df, batch_size, [10,25])\n",
    "    dataloader_it = iter(dataloader)\n",
    "    input_nodes, output_nodes, blocks  = uva_benchmark(dataloader_it)  \n",
    "    assert len(output_nodes)==batch_size\n",
    "    %timeit input_nodes, output_nodes, blocks  = uva_benchmark(dataloader_it) "
   ]
  }
 ],
 "metadata": {
  "kernelspec": {
   "display_name": "Python 3 (ipykernel)",
   "language": "python",
   "name": "python3"
  },
  "language_info": {
   "codemirror_mode": {
    "name": "ipython",
    "version": 3
   },
   "file_extension": ".py",
   "mimetype": "text/x-python",
   "name": "python",
   "nbconvert_exporter": "python",
   "pygments_lexer": "ipython3",
   "version": "3.9.15"
  }
 },
 "nbformat": 4,
 "nbformat_minor": 5
}
